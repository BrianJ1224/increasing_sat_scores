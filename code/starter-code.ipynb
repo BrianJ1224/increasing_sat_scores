{
 "cells": [
  {
   "cell_type": "markdown",
   "metadata": {},
   "source": [
    "# Project 1: SAT & ACT Analysis"
   ]
  },
  {
   "cell_type": "markdown",
   "metadata": {},
   "source": [
    "The first markdown cell in a notebook is a great place to provide an overview of your entire project. You will likely want to at least state your\n",
    "\n",
    "## Problem Statement"
   ]
  },
  {
   "cell_type": "markdown",
   "metadata": {},
   "source": [
    "In Lousiana, the participation rate for the SAT is very low compared to the SAT in 2017 and 2018. Colorado was similiar although in 2018 the opposite occured.Data was analized to see why Colorado had an incraase in students taking the SAT. "
   ]
  },
  {
   "cell_type": "markdown",
   "metadata": {},
   "source": [
    "## Executive Summary\n",
    "\n",
    "If you want to, it's great to use relative links to direct your audience to various sections of a notebook. **HERE'S A DEMONSTRATION WITH THE CURRENT SECTION HEADERS**:\n",
    "\n",
    "### Contents:\n",
    "- [2017 Data Import & Cleaning](#Data-Import-and-Cleaning)\n",
    "- [2018 Data Import and Cleaning](#2018-Data-Import-and-Cleaning)\n",
    "- [Exploratory Data Analysis](#Exploratory-Data-Analysis)\n",
    "- [Data Visualization](#Visualize-the-data)\n",
    "- [Descriptive and Inferential Statistics](#Descriptive-and-Inferential-Statistics)\n",
    "- [Outside Research](#Outside-Research)\n",
    "- [Conclusions and Recommendations](#Conclusions-and-Recommendations)"
   ]
  },
  {
   "cell_type": "markdown",
   "metadata": {},
   "source": [
    "**If you combine your problem statement, executive summary, data dictionary, and conclusions/recommendations, you have an amazing README.md file that quickly aligns your audience to the contents of your project.** Don't forget to cite your data sources!"
   ]
  },
  {
   "cell_type": "markdown",
   "metadata": {},
   "source": [
    "*All libraries used should be added here*"
   ]
  },
  {
   "cell_type": "code",
   "execution_count": 1,
   "metadata": {},
   "outputs": [],
   "source": [
    "# Libraries that are imported\n",
    "import numpy as np\n",
    "import pandas as pd\n",
    "import matplotlib.pyplot as plt\n",
    "import seaborn as sns"
   ]
  },
  {
   "cell_type": "markdown",
   "metadata": {},
   "source": [
    "## 2017 Data Import and Cleaning"
   ]
  },
  {
   "cell_type": "markdown",
   "metadata": {},
   "source": [
    "#### 1. Read In SAT & ACT  Data\n",
    "\n",
    "Read in the `sat_2017.csv` and `act_2017.csv` files and assign them to appropriately named pandas dataframes."
   ]
  },
  {
   "cell_type": "code",
   "execution_count": 2,
   "metadata": {},
   "outputs": [],
   "source": [
    "# Importing CSV files and assiging them\n",
    "sat_2017 = pd.read_csv('../data/sat_2017.csv')\n",
    "act_2017 = pd.read_csv('../data/act_2017.csv')"
   ]
  },
  {
   "cell_type": "markdown",
   "metadata": {},
   "source": [
    "#### 2. Display Data\n",
    "\n",
    "Print the first 10 rows of each dataframe to your jupyter notebook"
   ]
  },
  {
   "cell_type": "code",
   "execution_count": 3,
   "metadata": {},
   "outputs": [
    {
     "data": {
      "text/html": [
       "<div>\n",
       "<style scoped>\n",
       "    .dataframe tbody tr th:only-of-type {\n",
       "        vertical-align: middle;\n",
       "    }\n",
       "\n",
       "    .dataframe tbody tr th {\n",
       "        vertical-align: top;\n",
       "    }\n",
       "\n",
       "    .dataframe thead th {\n",
       "        text-align: right;\n",
       "    }\n",
       "</style>\n",
       "<table border=\"1\" class=\"dataframe\">\n",
       "  <thead>\n",
       "    <tr style=\"text-align: right;\">\n",
       "      <th></th>\n",
       "      <th>State</th>\n",
       "      <th>Participation</th>\n",
       "      <th>Evidence-Based Reading and Writing</th>\n",
       "      <th>Math</th>\n",
       "      <th>Total</th>\n",
       "    </tr>\n",
       "  </thead>\n",
       "  <tbody>\n",
       "    <tr>\n",
       "      <th>0</th>\n",
       "      <td>Alabama</td>\n",
       "      <td>5%</td>\n",
       "      <td>593</td>\n",
       "      <td>572</td>\n",
       "      <td>1165</td>\n",
       "    </tr>\n",
       "    <tr>\n",
       "      <th>1</th>\n",
       "      <td>Alaska</td>\n",
       "      <td>38%</td>\n",
       "      <td>547</td>\n",
       "      <td>533</td>\n",
       "      <td>1080</td>\n",
       "    </tr>\n",
       "    <tr>\n",
       "      <th>2</th>\n",
       "      <td>Arizona</td>\n",
       "      <td>30%</td>\n",
       "      <td>563</td>\n",
       "      <td>553</td>\n",
       "      <td>1116</td>\n",
       "    </tr>\n",
       "    <tr>\n",
       "      <th>3</th>\n",
       "      <td>Arkansas</td>\n",
       "      <td>3%</td>\n",
       "      <td>614</td>\n",
       "      <td>594</td>\n",
       "      <td>1208</td>\n",
       "    </tr>\n",
       "    <tr>\n",
       "      <th>4</th>\n",
       "      <td>California</td>\n",
       "      <td>53%</td>\n",
       "      <td>531</td>\n",
       "      <td>524</td>\n",
       "      <td>1055</td>\n",
       "    </tr>\n",
       "  </tbody>\n",
       "</table>\n",
       "</div>"
      ],
      "text/plain": [
       "        State Participation  Evidence-Based Reading and Writing  Math  Total\n",
       "0     Alabama            5%                                 593   572   1165\n",
       "1      Alaska           38%                                 547   533   1080\n",
       "2     Arizona           30%                                 563   553   1116\n",
       "3    Arkansas            3%                                 614   594   1208\n",
       "4  California           53%                                 531   524   1055"
      ]
     },
     "execution_count": 3,
     "metadata": {},
     "output_type": "execute_result"
    }
   ],
   "source": [
    "# Shows the rows 0-9 of SAT 2017 \n",
    "sat_2017.head()"
   ]
  },
  {
   "cell_type": "code",
   "execution_count": 4,
   "metadata": {},
   "outputs": [
    {
     "data": {
      "text/html": [
       "<div>\n",
       "<style scoped>\n",
       "    .dataframe tbody tr th:only-of-type {\n",
       "        vertical-align: middle;\n",
       "    }\n",
       "\n",
       "    .dataframe tbody tr th {\n",
       "        vertical-align: top;\n",
       "    }\n",
       "\n",
       "    .dataframe thead th {\n",
       "        text-align: right;\n",
       "    }\n",
       "</style>\n",
       "<table border=\"1\" class=\"dataframe\">\n",
       "  <thead>\n",
       "    <tr style=\"text-align: right;\">\n",
       "      <th></th>\n",
       "      <th>State</th>\n",
       "      <th>Participation</th>\n",
       "      <th>English</th>\n",
       "      <th>Math</th>\n",
       "      <th>Reading</th>\n",
       "      <th>Science</th>\n",
       "      <th>Composite</th>\n",
       "    </tr>\n",
       "  </thead>\n",
       "  <tbody>\n",
       "    <tr>\n",
       "      <th>0</th>\n",
       "      <td>National</td>\n",
       "      <td>60%</td>\n",
       "      <td>20.3</td>\n",
       "      <td>20.7</td>\n",
       "      <td>21.4</td>\n",
       "      <td>21.0</td>\n",
       "      <td>21.0</td>\n",
       "    </tr>\n",
       "    <tr>\n",
       "      <th>1</th>\n",
       "      <td>Alabama</td>\n",
       "      <td>100%</td>\n",
       "      <td>18.9</td>\n",
       "      <td>18.4</td>\n",
       "      <td>19.7</td>\n",
       "      <td>19.4</td>\n",
       "      <td>19.2</td>\n",
       "    </tr>\n",
       "    <tr>\n",
       "      <th>2</th>\n",
       "      <td>Alaska</td>\n",
       "      <td>65%</td>\n",
       "      <td>18.7</td>\n",
       "      <td>19.8</td>\n",
       "      <td>20.4</td>\n",
       "      <td>19.9</td>\n",
       "      <td>19.8</td>\n",
       "    </tr>\n",
       "    <tr>\n",
       "      <th>3</th>\n",
       "      <td>Arizona</td>\n",
       "      <td>62%</td>\n",
       "      <td>18.6</td>\n",
       "      <td>19.8</td>\n",
       "      <td>20.1</td>\n",
       "      <td>19.8</td>\n",
       "      <td>19.7</td>\n",
       "    </tr>\n",
       "    <tr>\n",
       "      <th>4</th>\n",
       "      <td>Arkansas</td>\n",
       "      <td>100%</td>\n",
       "      <td>18.9</td>\n",
       "      <td>19.0</td>\n",
       "      <td>19.7</td>\n",
       "      <td>19.5</td>\n",
       "      <td>19.4</td>\n",
       "    </tr>\n",
       "  </tbody>\n",
       "</table>\n",
       "</div>"
      ],
      "text/plain": [
       "      State Participation  English  Math  Reading  Science Composite\n",
       "0  National           60%     20.3  20.7     21.4     21.0      21.0\n",
       "1   Alabama          100%     18.9  18.4     19.7     19.4      19.2\n",
       "2    Alaska           65%     18.7  19.8     20.4     19.9      19.8\n",
       "3   Arizona           62%     18.6  19.8     20.1     19.8      19.7\n",
       "4  Arkansas          100%     18.9  19.0     19.7     19.5      19.4"
      ]
     },
     "execution_count": 4,
     "metadata": {},
     "output_type": "execute_result"
    }
   ],
   "source": [
    "# Shows the rows 0-9 of ACT 2017 \n",
    "act_2017.head()"
   ]
  },
  {
   "cell_type": "markdown",
   "metadata": {},
   "source": [
    "#### 3. Verbally Describe Data\n",
    "\n",
    "Take your time looking through the data and thoroughly describe the data in the markdown cell below. "
   ]
  },
  {
   "cell_type": "markdown",
   "metadata": {},
   "source": [
    "Looking at the first 10 states in the lit for SAT and ACT scores in 2017, states have a higher percentage of one test over another test. For example, Connecticut has 100% for SAT participation but 31% for ACT participation. In addition, SAT does not have a National row as ACT does."
   ]
  },
  {
   "cell_type": "markdown",
   "metadata": {},
   "source": [
    "#### 4a. Does the data look complete? "
   ]
  },
  {
   "cell_type": "markdown",
   "metadata": {},
   "source": [
    "The data provided is not complete. The data will have to be cleaned and further research will have to be done. First, SAT 2017 will need to be researched to see if there is a natinal score, if this data is decided to be used from the ACT or if it is omitted. Second, the data needs to be cleaned. Maryland for math has 52 for SAT. This is an error as the score should 200-800 for each section."
   ]
  },
  {
   "cell_type": "markdown",
   "metadata": {},
   "source": [
    "#### 4b. Are there any obvious issues with the observations?\n",
    "\n",
    "**What is the minimum *possible* value for each test/subtest? What is the maximum *possible* value?**\n",
    "\n",
    "Consider comparing any questionable values to the sources of your data:\n",
    "- [SAT](https://blog.collegevine.com/here-are-the-average-sat-scores-by-state/)\n",
    "- [ACT](https://blog.prepscholar.com/act-scores-by-state-averages-highs-and-lows)"
   ]
  },
  {
   "cell_type": "markdown",
   "metadata": {},
   "source": [
    "For the SAT, the range of scores can be 200-800 for Evidence-Based Reading and Writing and Math. For Total, the range is 400-1600.\n",
    "For the ACT, the range of scores for English, Math, Reading,\tScience, and Composite can be 1-36."
   ]
  },
  {
   "cell_type": "markdown",
   "metadata": {},
   "source": [
    "#### 4c. Fix any errors you identified\n",
    "\n",
    "**The data is available** so there's no need to guess or calculate anything. If you didn't find any errors, continue to the next step."
   ]
  },
  {
   "cell_type": "code",
   "execution_count": 5,
   "metadata": {},
   "outputs": [
    {
     "name": "stderr",
     "output_type": "stream",
     "text": [
      "/Users/brianjankowitz/anaconda3/lib/python3.6/site-packages/ipykernel_launcher.py:2: SettingWithCopyWarning: \n",
      "A value is trying to be set on a copy of a slice from a DataFrame\n",
      "\n",
      "See the caveats in the documentation: http://pandas.pydata.org/pandas-docs/stable/user_guide/indexing.html#returning-a-view-versus-a-copy\n",
      "  \n"
     ]
    }
   ],
   "source": [
    "# Replace 2.3 with 23.0 \n",
    "act_2017['Science'][21] = 23"
   ]
  },
  {
   "cell_type": "code",
   "execution_count": 6,
   "metadata": {},
   "outputs": [
    {
     "name": "stderr",
     "output_type": "stream",
     "text": [
      "/Users/brianjankowitz/anaconda3/lib/python3.6/site-packages/ipykernel_launcher.py:2: SettingWithCopyWarning: \n",
      "A value is trying to be set on a copy of a slice from a DataFrame\n",
      "\n",
      "See the caveats in the documentation: http://pandas.pydata.org/pandas-docs/stable/user_guide/indexing.html#returning-a-view-versus-a-copy\n",
      "  \n"
     ]
    }
   ],
   "source": [
    "# Replace 20.2x with 20.2\n",
    "act_2017['Composite'][51] = 20.2"
   ]
  },
  {
   "cell_type": "code",
   "execution_count": 7,
   "metadata": {},
   "outputs": [
    {
     "name": "stderr",
     "output_type": "stream",
     "text": [
      "/Users/brianjankowitz/anaconda3/lib/python3.6/site-packages/ipykernel_launcher.py:2: SettingWithCopyWarning: \n",
      "A value is trying to be set on a copy of a slice from a DataFrame\n",
      "\n",
      "See the caveats in the documentation: http://pandas.pydata.org/pandas-docs/stable/user_guide/indexing.html#returning-a-view-versus-a-copy\n",
      "  \n"
     ]
    }
   ],
   "source": [
    "# Replace 52 with 520\n",
    "sat_2017['Math'][20] = 520"
   ]
  },
  {
   "cell_type": "markdown",
   "metadata": {},
   "source": [
    "#### 5. What are your data types? \n",
    "Display the data types of each feature. "
   ]
  },
  {
   "cell_type": "code",
   "execution_count": 8,
   "metadata": {},
   "outputs": [
    {
     "data": {
      "text/plain": [
       "State             object\n",
       "Participation     object\n",
       "English          float64\n",
       "Math             float64\n",
       "Reading          float64\n",
       "Science          float64\n",
       "Composite         object\n",
       "dtype: object"
      ]
     },
     "execution_count": 8,
     "metadata": {},
     "output_type": "execute_result"
    }
   ],
   "source": [
    "act_2017.dtypes"
   ]
  },
  {
   "cell_type": "code",
   "execution_count": 9,
   "metadata": {},
   "outputs": [
    {
     "data": {
      "text/plain": [
       "State                                 object\n",
       "Participation                         object\n",
       "Evidence-Based Reading and Writing     int64\n",
       "Math                                   int64\n",
       "Total                                  int64\n",
       "dtype: object"
      ]
     },
     "execution_count": 9,
     "metadata": {},
     "output_type": "execute_result"
    }
   ],
   "source": [
    "sat_2017.dtypes"
   ]
  },
  {
   "cell_type": "markdown",
   "metadata": {},
   "source": [
    "What did you learn?\n",
    "- Do any of them seem odd?  \n",
    "- Which ones are not as they should be?  "
   ]
  },
  {
   "cell_type": "markdown",
   "metadata": {},
   "source": [
    "For SAT_2017, participaiton is stored as an object when it should be an integer or float.\n",
    "For ACt _2017, particpiation and Composite are stored as an object when they should be an integer or float.\n",
    "These will need to be changed in order to do calculations. "
   ]
  },
  {
   "cell_type": "markdown",
   "metadata": {},
   "source": [
    "#### 6. Fix Incorrect Data Types\n",
    "Based on what you discovered above, use appropriate methods to re-type incorrectly typed data.\n",
    "- Define a function that will allow you to convert participation rates to an appropriate numeric type. Use `map` or `apply` to change these columns in each dataframe."
   ]
  },
  {
   "cell_type": "code",
   "execution_count": 10,
   "metadata": {},
   "outputs": [],
   "source": [
    "# Mahdi, is this considered apply function?\n",
    "# Function to remove percentage sign from Participation column in SAT_2017 and ACT_2017\n",
    "def remove_percentage(df):\n",
    "    df[\"Participation\"] = df[\"Participation\"].str.strip('%')\n",
    "    df['Participation'] = df['Participation'].astype(int)\n",
    "    df[\"Participation\"] = df[\"Participation\"]/100\n",
    "    return df\n"
   ]
  },
  {
   "cell_type": "markdown",
   "metadata": {},
   "source": [
    "- Fix any individual values preventing other columns from being the appropriate type."
   ]
  },
  {
   "cell_type": "code",
   "execution_count": 11,
   "metadata": {},
   "outputs": [],
   "source": [
    "remove_percentage(sat_2017);"
   ]
  },
  {
   "cell_type": "markdown",
   "metadata": {},
   "source": [
    "- Finish your data modifications by making sure the columns are now typed appropriately."
   ]
  },
  {
   "cell_type": "code",
   "execution_count": 12,
   "metadata": {},
   "outputs": [],
   "source": [
    "remove_percentage(act_2017);"
   ]
  },
  {
   "cell_type": "markdown",
   "metadata": {},
   "source": [
    "- Display the data types again to confirm they are correct."
   ]
  },
  {
   "cell_type": "code",
   "execution_count": 13,
   "metadata": {},
   "outputs": [],
   "source": [
    "# Remove data to clean data\n",
    "act_2017 = act_2017.drop(act_2017.index[0])"
   ]
  },
  {
   "cell_type": "code",
   "execution_count": 14,
   "metadata": {},
   "outputs": [],
   "source": [
    "# Converts the Composite Column in ACT-2017 from object to float\n",
    "act_2017[\"Composite\"]= act_2017[\"Composite\"].astype(float)\n",
    "act_2017[\"Participation\"]= act_2017[\"Participation\"].astype(float)\n",
    "sat_2017[\"Participation\"]= sat_2017[\"Participation\"].astype(float)"
   ]
  },
  {
   "cell_type": "markdown",
   "metadata": {},
   "source": [
    "#### 7. Rename Columns\n",
    "Change the names of the columns to more expressive names so that you can tell the difference the SAT columns and the ACT columns. Your solution should map all column names being changed at once (no repeated singular name-changes). **We will be combining these data with some of the data from 2018, and so you should name columns in an appropriate way**.\n",
    "\n",
    "**Guidelines**:\n",
    "- Column names should be all lowercase (you will thank yourself when you start pushing data to SQL later in the course)\n",
    "- Column names should not contain spaces (underscores will suffice--this allows for using the `df.column_name` method to access columns in addition to `df['column_name']`.\n",
    "- Column names should be unique and informative (the only feature that we actually share between dataframes is the state)."
   ]
  },
  {
   "cell_type": "code",
   "execution_count": 15,
   "metadata": {},
   "outputs": [],
   "source": [
    "# To rename columns in SAT_2017_new using camel case\n",
    "sat_2017 = sat_2017.rename(columns={\n",
    "                'State': 'state',\n",
    "                'Participation': 'participation_sat_2017',\n",
    "                'Evidence-Based Reading and Writing': 'evidence-based_reading_and_writing_sat_2017',\n",
    "                'Math': 'math_sat_2017',\n",
    "                'Total': 'total_sat_2017'\n",
    "})"
   ]
  },
  {
   "cell_type": "code",
   "execution_count": 16,
   "metadata": {},
   "outputs": [],
   "source": [
    "# To rename columns in ACT_2017_new using camel case\n",
    "act_2017 = act_2017.rename(columns={\n",
    "                'State': 'state',\n",
    "                'Participation': 'participation_act_2017',\n",
    "                'English': 'english_act_2017',\n",
    "                'Math': 'math_act_2017',\n",
    "                'Reading': 'reading_act_2017',\n",
    "                'Science': 'science_act_2017',\n",
    "                'Composite': 'composite_act_2017'\n",
    "})"
   ]
  },
  {
   "cell_type": "markdown",
   "metadata": {},
   "source": [
    "#### 8. Create a data dictionary\n",
    "\n",
    "Now that we've fixed our data, and given it appropriate names, let's create a [data dictionary](http://library.ucmerced.edu/node/10249). \n",
    "\n",
    "A data dictionary provides a quick overview of features/variables/columns, alongside data types and descriptions. The more descriptive you can be, the more useful this document is.\n",
    "\n",
    "Example of a Fictional Data Dictionary Entry: \n",
    "\n",
    "|Feature|Type|Dataset|Description|\n",
    "|---|---|---|---|\n",
    "|**county_pop**|*integer*|2010 census|The population of the county (units in thousands, where 2.5 represents 2500 people).| \n",
    "|**per_poverty**|*float*|2010 census|The percent of the county over the age of 18 living below the 200% of official US poverty rate (units percent to two decimal places 98.10 means 98.1%)|\n",
    "\n",
    "[Here's a quick link to a short guide for formatting markdown in Jupyter notebooks](https://jupyter-notebook.readthedocs.io/en/stable/examples/Notebook/Working%20With%20Markdown%20Cells.html).\n",
    "\n",
    "Provided is the skeleton for formatting a markdown table, with columns headers that will help you create a data dictionary to quickly summarize your data, as well as some examples. **This would be a great thing to copy and paste into your custom README for this project.**"
   ]
  },
  {
   "cell_type": "markdown",
   "metadata": {},
   "source": [
    "|Feature|Type|Dataset|Description|\n",
    "|---|---|---|---|\n",
    "|state_sat_2017|object|SAT|Place of test\n",
    "|participation_sat_2017|int|SAT|Percentage of people who took test\n",
    "|evidence-based reading and writing_sat_2017|int|SAT|English score\n",
    "|math_sat_2017|int|SAT|Math Score\n",
    "|total_sat_2017|int|SAT|Total score\n",
    "|state_act_2017|object|ACT|Place of test\n",
    "|participation_act_2017|int|ACT|Percentage of people who took test\n",
    "|english_act_2017|float|ACT|English score\n",
    "|math_sat_2017|float|ACT|Math score\n",
    "|reading_act_2017|float|ACT|Reading score\n",
    "|science_act_2017|float|ACT|Science score\n"
   ]
  },
  {
   "cell_type": "markdown",
   "metadata": {},
   "source": [
    "#### 9. Drop unnecessary rows\n",
    "\n",
    "One of our dataframes contains an extra row. Identify and remove this from the dataframe."
   ]
  },
  {
   "cell_type": "markdown",
   "metadata": {},
   "source": [
    "The row for National in act_2017 was removed above"
   ]
  },
  {
   "cell_type": "markdown",
   "metadata": {},
   "source": [
    "#### 10. Merge Dataframes\n",
    "\n",
    "Join the 2017 ACT and SAT dataframes using the state in each dataframe as the key. Assign this to a new variable."
   ]
  },
  {
   "cell_type": "code",
   "execution_count": 17,
   "metadata": {},
   "outputs": [],
   "source": [
    "# Combine sat_2017 and act_2017 and create new file\n",
    "combined_2017 = pd.merge(\n",
    "    left = sat_2017,\n",
    "    right = act_2017,\n",
    "    on = \"state\")"
   ]
  },
  {
   "cell_type": "markdown",
   "metadata": {},
   "source": [
    "#### 11. Save your cleaned, merged dataframe\n",
    "\n",
    "Use a relative path to save out your data as `combined_2017.csv`."
   ]
  },
  {
   "cell_type": "code",
   "execution_count": 18,
   "metadata": {},
   "outputs": [],
   "source": [
    "# Save new file\n",
    "combined_2017.to_csv('../data/combined_2017.csv')"
   ]
  },
  {
   "cell_type": "markdown",
   "metadata": {},
   "source": [
    "## 2018 Data Import and Cleaning"
   ]
  },
  {
   "cell_type": "markdown",
   "metadata": {},
   "source": [
    "Read in the `sat_2018.csv` and `act_2018.csv` files and assign them to appropriately named pandas dataframes. For the **2018 ACT Data**, only the `Composite` scores are available. Repeat the same processes to clean the 2018 data here as you were instructed in the previous sections above."
   ]
  },
  {
   "cell_type": "code",
   "execution_count": 19,
   "metadata": {},
   "outputs": [],
   "source": [
    "# Import SAT 2018 and ACT 2018 files\n",
    "sat_2018 = pd.read_csv('../data/sat_2018.csv')\n",
    "act_2018 = pd.read_csv('../data/act_2018.csv')"
   ]
  },
  {
   "cell_type": "code",
   "execution_count": 20,
   "metadata": {},
   "outputs": [],
   "source": [
    "remove_percentage(sat_2018);\n",
    "remove_percentage(act_2018);"
   ]
  },
  {
   "cell_type": "code",
   "execution_count": 21,
   "metadata": {},
   "outputs": [],
   "source": [
    "# To rename columns in SAT_2018_new using camel case\n",
    "sat_2018 = sat_2018.rename(columns={\n",
    "                'State': 'state',\n",
    "                'Participation': 'participation_sat_2018',\n",
    "                'Evidence-Based Reading and Writing': 'evidence-based_reading_and_writing_sat_2018',\n",
    "                'Math': 'math_sat_2018',\n",
    "                'Total': 'total_sat_2018'\n",
    "})\n",
    "\n"
   ]
  },
  {
   "cell_type": "code",
   "execution_count": 22,
   "metadata": {},
   "outputs": [],
   "source": [
    "# To rename columns in ACT_2018_new using camel case8\n",
    "act_2018 = act_2018.rename(columns={\n",
    "                'State': 'state',\n",
    "                'Participation': 'participation_act_2018',\n",
    "                'English': 'english_act_2018',\n",
    "                'Math': 'math_act_2018',\n",
    "                'Reading': 'reading_act_2018',\n",
    "                'Science': 'science_act_2018',\n",
    "                'Composite': 'composite_act_2018'\n",
    "})"
   ]
  },
  {
   "cell_type": "markdown",
   "metadata": {},
   "source": [
    "#### Combine your 2017 and 2018 data into a single dataframe\n",
    "Joining on state names should work, assuming you formatted all your state names identically. Make sure none of your columns (other than state) have identical names. Do yourself a favor and decide if you're encoding participation rates as floats or integers and standardize this across your datasets.\n",
    "\n",
    "Save the contents of this merged dataframe as `final.csv`.\n",
    "\n",
    "**Use this combined dataframe for the remainder of the project**."
   ]
  },
  {
   "cell_type": "code",
   "execution_count": 23,
   "metadata": {},
   "outputs": [
    {
     "data": {
      "text/html": [
       "<div>\n",
       "<style scoped>\n",
       "    .dataframe tbody tr th:only-of-type {\n",
       "        vertical-align: middle;\n",
       "    }\n",
       "\n",
       "    .dataframe tbody tr th {\n",
       "        vertical-align: top;\n",
       "    }\n",
       "\n",
       "    .dataframe thead th {\n",
       "        text-align: right;\n",
       "    }\n",
       "</style>\n",
       "<table border=\"1\" class=\"dataframe\">\n",
       "  <thead>\n",
       "    <tr style=\"text-align: right;\">\n",
       "      <th></th>\n",
       "      <th>state</th>\n",
       "      <th>participation_act_2018</th>\n",
       "      <th>composite_act_2018</th>\n",
       "    </tr>\n",
       "  </thead>\n",
       "  <tbody>\n",
       "    <tr>\n",
       "      <th>0</th>\n",
       "      <td>Alabama</td>\n",
       "      <td>1.00</td>\n",
       "      <td>19.1</td>\n",
       "    </tr>\n",
       "    <tr>\n",
       "      <th>1</th>\n",
       "      <td>Alaska</td>\n",
       "      <td>0.33</td>\n",
       "      <td>20.8</td>\n",
       "    </tr>\n",
       "    <tr>\n",
       "      <th>2</th>\n",
       "      <td>Arizona</td>\n",
       "      <td>0.66</td>\n",
       "      <td>19.2</td>\n",
       "    </tr>\n",
       "    <tr>\n",
       "      <th>3</th>\n",
       "      <td>Arkansas</td>\n",
       "      <td>1.00</td>\n",
       "      <td>19.4</td>\n",
       "    </tr>\n",
       "    <tr>\n",
       "      <th>4</th>\n",
       "      <td>California</td>\n",
       "      <td>0.27</td>\n",
       "      <td>22.7</td>\n",
       "    </tr>\n",
       "  </tbody>\n",
       "</table>\n",
       "</div>"
      ],
      "text/plain": [
       "        state  participation_act_2018  composite_act_2018\n",
       "0     Alabama                    1.00                19.1\n",
       "1      Alaska                    0.33                20.8\n",
       "2     Arizona                    0.66                19.2\n",
       "3    Arkansas                    1.00                19.4\n",
       "4  California                    0.27                22.7"
      ]
     },
     "execution_count": 23,
     "metadata": {},
     "output_type": "execute_result"
    }
   ],
   "source": [
    "act_2018.head()"
   ]
  },
  {
   "cell_type": "code",
   "execution_count": 24,
   "metadata": {},
   "outputs": [],
   "source": [
    "# Combine 2018 data\n",
    "combined_2018 = pd.merge(\n",
    "    left = sat_2018,\n",
    "    right = act_2018,\n",
    "    on = \"state\")"
   ]
  },
  {
   "cell_type": "code",
   "execution_count": 53,
   "metadata": {},
   "outputs": [],
   "source": [
    "# Combine 2018 data\n",
    "combined_2017_2018 = pd.merge(\n",
    "    left = combined_2017,\n",
    "    right = combined_2018,\n",
    "    on = \"state\")"
   ]
  },
  {
   "cell_type": "code",
   "execution_count": null,
   "metadata": {},
   "outputs": [],
   "source": [
    "# Save new file\n",
    "combined_2017.to_csv('../data/combined_2017.csv')"
   ]
  },
  {
   "cell_type": "markdown",
   "metadata": {},
   "source": [
    "## Exploratory Data Analysis\n",
    "\n",
    "\n",
    "### Summary Statistics\n",
    "Transpose the output of pandas `describe` method to create a quick overview of each numeric feature."
   ]
  },
  {
   "cell_type": "code",
   "execution_count": 26,
   "metadata": {},
   "outputs": [
    {
     "data": {
      "text/plain": [
       "<bound method NDFrame.describe of              state  participation_sat_2017  \\\n",
       "0          Alabama                    0.05   \n",
       "1           Alaska                    0.38   \n",
       "2          Arizona                    0.30   \n",
       "3         Arkansas                    0.03   \n",
       "4       California                    0.53   \n",
       "5         Colorado                    0.11   \n",
       "6      Connecticut                    1.00   \n",
       "7         Delaware                    1.00   \n",
       "8          Florida                    0.83   \n",
       "9          Georgia                    0.61   \n",
       "10          Hawaii                    0.55   \n",
       "11           Idaho                    0.93   \n",
       "12        Illinois                    0.09   \n",
       "13         Indiana                    0.63   \n",
       "14            Iowa                    0.02   \n",
       "15          Kansas                    0.04   \n",
       "16        Kentucky                    0.04   \n",
       "17       Louisiana                    0.04   \n",
       "18           Maine                    0.95   \n",
       "19           Maine                    0.95   \n",
       "20        Maryland                    0.69   \n",
       "21   Massachusetts                    0.76   \n",
       "22        Michigan                    1.00   \n",
       "23       Minnesota                    0.03   \n",
       "24     Mississippi                    0.02   \n",
       "25        Missouri                    0.03   \n",
       "26         Montana                    0.10   \n",
       "27        Nebraska                    0.03   \n",
       "28          Nevada                    0.26   \n",
       "29   New Hampshire                    0.96   \n",
       "30      New Jersey                    0.70   \n",
       "31      New Mexico                    0.11   \n",
       "32        New York                    0.67   \n",
       "33  North Carolina                    0.49   \n",
       "34    North Dakota                    0.02   \n",
       "35            Ohio                    0.12   \n",
       "36        Oklahoma                    0.07   \n",
       "37          Oregon                    0.43   \n",
       "38    Pennsylvania                    0.65   \n",
       "39    Rhode Island                    0.71   \n",
       "40  South Carolina                    0.50   \n",
       "41    South Dakota                    0.03   \n",
       "42       Tennessee                    0.05   \n",
       "43           Texas                    0.62   \n",
       "44            Utah                    0.03   \n",
       "45         Vermont                    0.60   \n",
       "46        Virginia                    0.65   \n",
       "47      Washington                    0.64   \n",
       "48   West Virginia                    0.14   \n",
       "49       Wisconsin                    0.03   \n",
       "50         Wyoming                    0.03   \n",
       "\n",
       "    evidence-based_reading_and_writing_sat_2017  math_sat_2017  \\\n",
       "0                                           593            572   \n",
       "1                                           547            533   \n",
       "2                                           563            553   \n",
       "3                                           614            594   \n",
       "4                                           531            524   \n",
       "5                                           606            595   \n",
       "6                                           530            512   \n",
       "7                                           503            492   \n",
       "8                                           520            497   \n",
       "9                                           535            515   \n",
       "10                                          544            541   \n",
       "11                                          513            493   \n",
       "12                                          559            556   \n",
       "13                                          542            532   \n",
       "14                                          641            635   \n",
       "15                                          632            628   \n",
       "16                                          631            616   \n",
       "17                                          611            586   \n",
       "18                                          513            499   \n",
       "19                                          513            499   \n",
       "20                                          536            520   \n",
       "21                                          555            551   \n",
       "22                                          509            495   \n",
       "23                                          644            651   \n",
       "24                                          634            607   \n",
       "25                                          640            631   \n",
       "26                                          605            591   \n",
       "27                                          629            625   \n",
       "28                                          563            553   \n",
       "29                                          532            520   \n",
       "30                                          530            526   \n",
       "31                                          577            561   \n",
       "32                                          528            523   \n",
       "33                                          546            535   \n",
       "34                                          635            621   \n",
       "35                                          578            570   \n",
       "36                                          530            517   \n",
       "37                                          560            548   \n",
       "38                                          540            531   \n",
       "39                                          539            524   \n",
       "40                                          543            521   \n",
       "41                                          612            603   \n",
       "42                                          623            604   \n",
       "43                                          513            507   \n",
       "44                                          624            614   \n",
       "45                                          562            551   \n",
       "46                                          561            541   \n",
       "47                                          541            534   \n",
       "48                                          558            528   \n",
       "49                                          642            649   \n",
       "50                                          626            604   \n",
       "\n",
       "    total_sat_2017  participation_act_2017  english_act_2017  math_act_2017  \\\n",
       "0             1165                    1.00              18.9           18.4   \n",
       "1             1080                    0.65              18.7           19.8   \n",
       "2             1116                    0.62              18.6           19.8   \n",
       "3             1208                    1.00              18.9           19.0   \n",
       "4             1055                    0.31              22.5           22.7   \n",
       "5             1201                    1.00              20.1           20.3   \n",
       "6             1041                    0.31              25.5           24.6   \n",
       "7              996                    0.18              24.1           23.4   \n",
       "8             1017                    0.73              19.0           19.4   \n",
       "9             1050                    0.55              21.0           20.9   \n",
       "10            1085                    0.90              17.8           19.2   \n",
       "11            1005                    0.38              21.9           21.8   \n",
       "12            1115                    0.93              21.0           21.2   \n",
       "13            1074                    0.35              22.0           22.4   \n",
       "14            1275                    0.67              21.2           21.3   \n",
       "15            1260                    0.73              21.1           21.3   \n",
       "16            1247                    1.00              19.6           19.4   \n",
       "17            1198                    1.00              19.4           18.8   \n",
       "18            1012                    0.08              24.2           24.0   \n",
       "19            1012                    0.08              24.2           24.0   \n",
       "20            1060                    0.28              23.3           23.1   \n",
       "21            1107                    0.29              25.4           25.3   \n",
       "22            1005                    0.29              24.1           23.7   \n",
       "23            1295                    1.00              20.4           21.5   \n",
       "24            1242                    1.00              18.2           18.1   \n",
       "25            1271                    1.00              19.8           19.9   \n",
       "26            1196                    1.00              19.0           20.2   \n",
       "27            1253                    0.84              20.9           20.9   \n",
       "28            1116                    1.00              16.3           18.0   \n",
       "29            1052                    0.18              25.4           25.1   \n",
       "30            1056                    0.34              23.8           23.8   \n",
       "31            1138                    0.66              18.6           19.4   \n",
       "32            1052                    0.31              23.8           24.0   \n",
       "33            1081                    1.00              17.8           19.3   \n",
       "34            1256                    0.98              19.0           20.4   \n",
       "35            1149                    0.75              21.2           21.6   \n",
       "36            1047                    1.00              18.5           18.8   \n",
       "37            1108                    0.40              21.2           21.5   \n",
       "38            1071                    0.23              23.4           23.4   \n",
       "39            1062                    0.21              24.0           23.3   \n",
       "40            1064                    1.00              17.5           18.6   \n",
       "41            1216                    0.80              20.7           21.5   \n",
       "42            1228                    1.00              19.5           19.2   \n",
       "43            1020                    0.45              19.5           20.7   \n",
       "44            1238                    1.00              19.5           19.9   \n",
       "45            1114                    0.29              23.3           23.1   \n",
       "46            1102                    0.29              23.5           23.3   \n",
       "47            1075                    0.29              20.9           21.9   \n",
       "48            1086                    0.69              20.0           19.4   \n",
       "49            1291                    1.00              19.7           20.4   \n",
       "50            1230                    1.00              19.4           19.8   \n",
       "\n",
       "    reading_act_2017  science_act_2017  composite_act_2017  \\\n",
       "0               19.7              19.4                19.2   \n",
       "1               20.4              19.9                19.8   \n",
       "2               20.1              19.8                19.7   \n",
       "3               19.7              19.5                19.4   \n",
       "4               23.1              22.2                22.8   \n",
       "5               21.2              20.9                20.8   \n",
       "6               25.6              24.6                25.2   \n",
       "7               24.8              23.6                24.1   \n",
       "8               21.0              19.4                19.8   \n",
       "9               22.0              21.3                21.4   \n",
       "10              19.2              19.3                19.0   \n",
       "11              23.0              22.1                22.3   \n",
       "12              21.6              21.3                21.4   \n",
       "13              23.2              22.3                22.6   \n",
       "14              22.6              22.1                21.9   \n",
       "15              22.3              21.7                21.7   \n",
       "16              20.5              20.1                20.0   \n",
       "17              19.8              19.6                19.5   \n",
       "18              24.8              23.7                24.3   \n",
       "19              24.8              23.7                24.3   \n",
       "20              24.2              23.0                23.6   \n",
       "21              25.9              24.7                25.4   \n",
       "22              24.5              23.8                24.1   \n",
       "23              21.8              21.6                21.5   \n",
       "24              18.8              18.8                18.6   \n",
       "25              20.8              20.5                20.4   \n",
       "26              21.0              20.5                20.3   \n",
       "27              21.9              21.5                21.4   \n",
       "28              18.1              18.2                17.8   \n",
       "29              26.0              24.9                25.5   \n",
       "30              24.1              23.2                23.9   \n",
       "31              20.4              20.0                19.7   \n",
       "32              24.6              23.9                24.2   \n",
       "33              19.6              19.3                19.1   \n",
       "34              20.5              20.6                20.3   \n",
       "35              22.5              22.0                22.0   \n",
       "36              20.1              19.6                19.4   \n",
       "37              22.4              21.7                21.8   \n",
       "38              24.2              23.3                23.7   \n",
       "39              24.7              23.4                24.0   \n",
       "40              19.1              18.9                18.7   \n",
       "41              22.3              22.0                21.8   \n",
       "42              20.1              19.9                19.8   \n",
       "43              21.1              20.9                20.7   \n",
       "44              20.8              20.6                20.3   \n",
       "45              24.4              23.2                23.6   \n",
       "46              24.6              23.5                23.8   \n",
       "47              22.1              22.0                21.9   \n",
       "48              21.2              20.5                20.4   \n",
       "49              20.6              20.9                20.5   \n",
       "50              20.8              20.6                20.2   \n",
       "\n",
       "    participation_sat_2018  evidence-based_reading_and_writing_sat_2018  \\\n",
       "0                     0.06                                          595   \n",
       "1                     0.43                                          562   \n",
       "2                     0.29                                          577   \n",
       "3                     0.05                                          592   \n",
       "4                     0.60                                          540   \n",
       "5                     1.00                                          519   \n",
       "6                     1.00                                          535   \n",
       "7                     1.00                                          505   \n",
       "8                     0.56                                          550   \n",
       "9                     0.70                                          542   \n",
       "10                    0.56                                          480   \n",
       "11                    1.00                                          508   \n",
       "12                    0.99                                          513   \n",
       "13                    0.63                                          542   \n",
       "14                    0.03                                          634   \n",
       "15                    0.04                                          633   \n",
       "16                    0.04                                          630   \n",
       "17                    0.04                                          615   \n",
       "18                    0.99                                          512   \n",
       "19                    0.99                                          512   \n",
       "20                    0.76                                          545   \n",
       "21                    0.80                                          562   \n",
       "22                    1.00                                          511   \n",
       "23                    0.04                                          643   \n",
       "24                    0.03                                          630   \n",
       "25                    0.04                                          633   \n",
       "26                    0.10                                          606   \n",
       "27                    0.03                                          629   \n",
       "28                    0.23                                          574   \n",
       "29                    0.96                                          535   \n",
       "30                    0.82                                          547   \n",
       "31                    0.16                                          552   \n",
       "32                    0.79                                          534   \n",
       "33                    0.52                                          554   \n",
       "34                    0.02                                          640   \n",
       "35                    0.18                                          552   \n",
       "36                    0.08                                          541   \n",
       "37                    0.48                                          564   \n",
       "38                    0.70                                          547   \n",
       "39                    0.97                                          513   \n",
       "40                    0.55                                          547   \n",
       "41                    0.03                                          622   \n",
       "42                    0.06                                          624   \n",
       "43                    0.66                                          520   \n",
       "44                    0.04                                          480   \n",
       "45                    0.64                                          565   \n",
       "46                    0.68                                          567   \n",
       "47                    0.69                                          543   \n",
       "48                    0.28                                          513   \n",
       "49                    0.03                                          641   \n",
       "50                    0.03                                          633   \n",
       "\n",
       "    math_sat_2018  total_sat_2018  participation_act_2018  composite_act_2018  \n",
       "0             571            1166                    1.00                19.1  \n",
       "1             544            1106                    0.33                20.8  \n",
       "2             572            1149                    0.66                19.2  \n",
       "3             576            1169                    1.00                19.4  \n",
       "4             536            1076                    0.27                22.7  \n",
       "5             506            1025                    0.30                23.9  \n",
       "6             519            1053                    0.26                25.6  \n",
       "7             492             998                    0.17                23.8  \n",
       "8             549            1099                    0.66                19.9  \n",
       "9             522            1064                    0.53                21.4  \n",
       "10            530            1010                    0.89                18.9  \n",
       "11            493            1001                    0.36                22.3  \n",
       "12            506            1019                    0.43                23.9  \n",
       "13            532            1074                    0.32                22.5  \n",
       "14            631            1265                    0.68                21.8  \n",
       "15            631            1265                    0.71                21.6  \n",
       "16            618            1248                    1.00                20.2  \n",
       "17            595            1210                    1.00                19.2  \n",
       "18            501            1013                    0.07                24.0  \n",
       "19            501            1013                    0.07                24.0  \n",
       "20            535            1080                    0.31                22.5  \n",
       "21            563            1125                    0.25                25.5  \n",
       "22            499            1011                    0.22                24.2  \n",
       "23            655            1298                    0.99                21.3  \n",
       "24            606            1236                    1.00                18.6  \n",
       "25            629            1262                    1.00                20.0  \n",
       "26            592            1198                    1.00                20.0  \n",
       "27            623            1252                    1.00                20.1  \n",
       "28            566            1140                    1.00                17.7  \n",
       "29            528            1063                    0.16                25.1  \n",
       "30            547            1094                    0.31                23.7  \n",
       "31            540            1093                    0.67                19.4  \n",
       "32            534            1068                    0.27                24.5  \n",
       "33            543            1098                    1.00                19.1  \n",
       "34            643            1283                    0.98                20.3  \n",
       "35            547            1099                    1.00                20.3  \n",
       "36            521            1062                    1.00                19.3  \n",
       "37            553            1117                    0.42                21.3  \n",
       "38            539            1086                    0.20                23.5  \n",
       "39            505            1018                    0.15                24.2  \n",
       "40            523            1070                    1.00                18.3  \n",
       "41            618            1240                    0.77                21.9  \n",
       "42            607            1231                    1.00                19.6  \n",
       "43            512            1032                    0.45                20.7  \n",
       "44            530            1010                    1.00                20.4  \n",
       "45            554            1120                    0.24                24.1  \n",
       "46            550            1117                    0.24                23.9  \n",
       "47            538            1081                    0.24                22.2  \n",
       "48            486             999                    0.65                20.3  \n",
       "49            653            1294                    1.00                20.5  \n",
       "50            625            1257                    1.00                20.0  >"
      ]
     },
     "execution_count": 26,
     "metadata": {},
     "output_type": "execute_result"
    }
   ],
   "source": [
    "combined_2017_2018.describe"
   ]
  },
  {
   "cell_type": "markdown",
   "metadata": {},
   "source": [
    "#### Manually calculate standard deviation\n",
    "\n",
    "$$\\sigma = \\sqrt{\\frac{1}{n}\\sum_{i=1}^n(x_i - \\mu)^2}$$\n",
    "\n",
    "- Write a function to calculate standard deviation using the formula above"
   ]
  },
  {
   "cell_type": "code",
   "execution_count": 27,
   "metadata": {},
   "outputs": [],
   "source": [
    "# Function for deviation\n",
    "import math\n",
    "def stddev(num):\n",
    "    y = []\n",
    "    for z in combined_2017_2018[num]:\n",
    "        y.append((z-np.mean(combined_2017_2018[num]))**2)\n",
    "    return math.sqrt(np.mean(y))"
   ]
  },
  {
   "cell_type": "code",
   "execution_count": 28,
   "metadata": {},
   "outputs": [
    {
     "data": {
      "text/plain": [
       "state                                           object\n",
       "participation_sat_2017                         float64\n",
       "evidence-based_reading_and_writing_sat_2017      int64\n",
       "math_sat_2017                                    int64\n",
       "total_sat_2017                                   int64\n",
       "participation_act_2017                         float64\n",
       "english_act_2017                               float64\n",
       "math_act_2017                                  float64\n",
       "reading_act_2017                               float64\n",
       "science_act_2017                               float64\n",
       "composite_act_2017                             float64\n",
       "participation_sat_2018                         float64\n",
       "evidence-based_reading_and_writing_sat_2018      int64\n",
       "math_sat_2018                                    int64\n",
       "total_sat_2018                                   int64\n",
       "participation_act_2018                         float64\n",
       "composite_act_2018                             float64\n",
       "dtype: object"
      ]
     },
     "execution_count": 28,
     "metadata": {},
     "output_type": "execute_result"
    }
   ],
   "source": [
    "combined_2017_2018.dtypes"
   ]
  },
  {
   "cell_type": "code",
   "execution_count": 29,
   "metadata": {},
   "outputs": [
    {
     "data": {
      "text/plain": [
       "0.3248306570911004"
      ]
     },
     "execution_count": 29,
     "metadata": {},
     "output_type": "execute_result"
    }
   ],
   "source": [
    "# Show function works for one column\n",
    "stddev('participation_act_2017')"
   ]
  },
  {
   "cell_type": "code",
   "execution_count": 30,
   "metadata": {},
   "outputs": [],
   "source": [
    "#To do Standard Deviation on all columns\n",
    "#Does not run, commented out to avoid errors when run all\n",
    "#df = combined_2017_2018.drop(columns = 'state')\n",
    "\n",
    "#sd = {num: stddev(combined_2017_2018[num])}\n",
    "#sd\n",
    "\n"
   ]
  },
  {
   "cell_type": "markdown",
   "metadata": {},
   "source": [
    "- Use a **dictionary comprehension** to apply your standard deviation function to each numeric column in the dataframe.  **No loops**  \n",
    "- Assign the output to variable `sd` as a dictionary where: \n",
    "    - Each column name is now a key \n",
    "    - That standard deviation of the column is the value \n",
    "     \n",
    "*Example Output :* `{'ACT_Math': 120, 'ACT_Reading': 120, ...}`"
   ]
  },
  {
   "cell_type": "markdown",
   "metadata": {},
   "source": [
    "Do your manually calculated standard deviations match up with the output from pandas `describe`? What about numpy's `std` method?"
   ]
  },
  {
   "cell_type": "markdown",
   "metadata": {},
   "source": [
    "Yes, the calculations are the same"
   ]
  },
  {
   "cell_type": "markdown",
   "metadata": {},
   "source": [
    "#### Investigate trends in the data\n",
    "Using sorting and/or masking (along with the `.head` method to not print our entire dataframe), consider the following questions:\n",
    "\n",
    "- Which states have the highest and lowest participation rates for the:\n",
    "    - 2017 SAT? \n",
    "        - Highest- Delaware, Michigan, Connecticut. \n",
    "        - Lowest- North Dakota, Mississippi, Iowa\n",
    "    - 2018 SAT? \n",
    "        - Highest- Colorado, Connecticut, Delaware, Michigan, Idaho. \n",
    "        - Lowest- North Dakota, Wyoming, South Dakota, Nebraska. Wisconsin, Mississippi, Iowa\n",
    "    - 2017 ACT? \n",
    "        - Highest- Alabama, Kentucky, Wisconsin, Utah, Tennessee (Other states have 100% participation rate as well). \n",
    "        - Lowest- Maine, Delaware, New Hampshire\n",
    "    - 2018 ACT? \n",
    "        - Highest- Alabama, Kentucky, Wisconsin, Utah, Tennessee (Other states have 100% participation rate as well). \n",
    "        - Lowest- Maine, Rhode Island\n",
    "- Which states have the highest and lowest mean total/composite scores for the:\n",
    "    - 2017 SAT? \n",
    "        - Highest- Minnesota, Wisconsin\n",
    "        - Lowest- Delaware, Idaho\n",
    "    - 2018 SAT? \n",
    "        - Highest- Minnesota, Wisconsin\n",
    "        - Lowest- Delaware, Virginia\n",
    "    - 2017 ACT? \n",
    "        - Highest- New Hampshire, Massachusetts\n",
    "        - Lowest- Nevada, Mississippi\n",
    "    - 2018 ACT? \n",
    "        - Highest- Connecticut,Massachusetts\n",
    "        - Lowest- Nevada, South Carolina\n",
    "- Do any states with 100% participation on a given test have a rate change year-to-year? \n",
    "    - Colorado, Idado, Maine, Michigan\n",
    "- Do any states show have >50% participation on *both* tests either year?\n",
    "    - For 2017,Florida, Georgia, Hawaii\n",
    "    - For 2018,Florida, Georgia, Hawaii, North Carolina, South Carolina\n",
    "\n",
    "Based on what you've just observed, have you identified any states that you're especially interested in? **Make a note of these and state *why* you think they're interesting**.\n",
    "\n",
    "**You should comment on your findings at each step in a markdown cell below your code block**. Make sure you include at least one example of sorting your dataframe by a column, and one example of using boolean filtering (i.e., masking) to select a subset of the dataframe."
   ]
  },
  {
   "cell_type": "code",
   "execution_count": 31,
   "metadata": {},
   "outputs": [],
   "source": [
    "# Simliar sates have the high/low score for preceeding years\n",
    "# Why do Colorado's, Idado's, Maine's, and Michigan's' rates change?\n",
    "# Why do some states have a average total/composoite low score for two preceeding years? Example Mississippi "
   ]
  },
  {
   "cell_type": "code",
   "execution_count": 32,
   "metadata": {},
   "outputs": [
    {
     "data": {
      "text/html": [
       "<div>\n",
       "<style scoped>\n",
       "    .dataframe tbody tr th:only-of-type {\n",
       "        vertical-align: middle;\n",
       "    }\n",
       "\n",
       "    .dataframe tbody tr th {\n",
       "        vertical-align: top;\n",
       "    }\n",
       "\n",
       "    .dataframe thead th {\n",
       "        text-align: right;\n",
       "    }\n",
       "</style>\n",
       "<table border=\"1\" class=\"dataframe\">\n",
       "  <thead>\n",
       "    <tr style=\"text-align: right;\">\n",
       "      <th></th>\n",
       "      <th>state</th>\n",
       "      <th>participation_sat_2017</th>\n",
       "      <th>evidence-based_reading_and_writing_sat_2017</th>\n",
       "      <th>math_sat_2017</th>\n",
       "      <th>total_sat_2017</th>\n",
       "      <th>participation_act_2017</th>\n",
       "      <th>english_act_2017</th>\n",
       "      <th>math_act_2017</th>\n",
       "      <th>reading_act_2017</th>\n",
       "      <th>science_act_2017</th>\n",
       "      <th>composite_act_2017</th>\n",
       "      <th>participation_sat_2018</th>\n",
       "      <th>evidence-based_reading_and_writing_sat_2018</th>\n",
       "      <th>math_sat_2018</th>\n",
       "      <th>total_sat_2018</th>\n",
       "      <th>participation_act_2018</th>\n",
       "      <th>composite_act_2018</th>\n",
       "    </tr>\n",
       "  </thead>\n",
       "  <tbody>\n",
       "    <tr>\n",
       "      <th>7</th>\n",
       "      <td>Delaware</td>\n",
       "      <td>1.00</td>\n",
       "      <td>503</td>\n",
       "      <td>492</td>\n",
       "      <td>996</td>\n",
       "      <td>0.18</td>\n",
       "      <td>24.1</td>\n",
       "      <td>23.4</td>\n",
       "      <td>24.8</td>\n",
       "      <td>23.6</td>\n",
       "      <td>24.1</td>\n",
       "      <td>1.00</td>\n",
       "      <td>505</td>\n",
       "      <td>492</td>\n",
       "      <td>998</td>\n",
       "      <td>0.17</td>\n",
       "      <td>23.8</td>\n",
       "    </tr>\n",
       "    <tr>\n",
       "      <th>48</th>\n",
       "      <td>West Virginia</td>\n",
       "      <td>0.14</td>\n",
       "      <td>558</td>\n",
       "      <td>528</td>\n",
       "      <td>1086</td>\n",
       "      <td>0.69</td>\n",
       "      <td>20.0</td>\n",
       "      <td>19.4</td>\n",
       "      <td>21.2</td>\n",
       "      <td>20.5</td>\n",
       "      <td>20.4</td>\n",
       "      <td>0.28</td>\n",
       "      <td>513</td>\n",
       "      <td>486</td>\n",
       "      <td>999</td>\n",
       "      <td>0.65</td>\n",
       "      <td>20.3</td>\n",
       "    </tr>\n",
       "    <tr>\n",
       "      <th>11</th>\n",
       "      <td>Idaho</td>\n",
       "      <td>0.93</td>\n",
       "      <td>513</td>\n",
       "      <td>493</td>\n",
       "      <td>1005</td>\n",
       "      <td>0.38</td>\n",
       "      <td>21.9</td>\n",
       "      <td>21.8</td>\n",
       "      <td>23.0</td>\n",
       "      <td>22.1</td>\n",
       "      <td>22.3</td>\n",
       "      <td>1.00</td>\n",
       "      <td>508</td>\n",
       "      <td>493</td>\n",
       "      <td>1001</td>\n",
       "      <td>0.36</td>\n",
       "      <td>22.3</td>\n",
       "    </tr>\n",
       "    <tr>\n",
       "      <th>10</th>\n",
       "      <td>Hawaii</td>\n",
       "      <td>0.55</td>\n",
       "      <td>544</td>\n",
       "      <td>541</td>\n",
       "      <td>1085</td>\n",
       "      <td>0.90</td>\n",
       "      <td>17.8</td>\n",
       "      <td>19.2</td>\n",
       "      <td>19.2</td>\n",
       "      <td>19.3</td>\n",
       "      <td>19.0</td>\n",
       "      <td>0.56</td>\n",
       "      <td>480</td>\n",
       "      <td>530</td>\n",
       "      <td>1010</td>\n",
       "      <td>0.89</td>\n",
       "      <td>18.9</td>\n",
       "    </tr>\n",
       "    <tr>\n",
       "      <th>44</th>\n",
       "      <td>Utah</td>\n",
       "      <td>0.03</td>\n",
       "      <td>624</td>\n",
       "      <td>614</td>\n",
       "      <td>1238</td>\n",
       "      <td>1.00</td>\n",
       "      <td>19.5</td>\n",
       "      <td>19.9</td>\n",
       "      <td>20.8</td>\n",
       "      <td>20.6</td>\n",
       "      <td>20.3</td>\n",
       "      <td>0.04</td>\n",
       "      <td>480</td>\n",
       "      <td>530</td>\n",
       "      <td>1010</td>\n",
       "      <td>1.00</td>\n",
       "      <td>20.4</td>\n",
       "    </tr>\n",
       "    <tr>\n",
       "      <th>22</th>\n",
       "      <td>Michigan</td>\n",
       "      <td>1.00</td>\n",
       "      <td>509</td>\n",
       "      <td>495</td>\n",
       "      <td>1005</td>\n",
       "      <td>0.29</td>\n",
       "      <td>24.1</td>\n",
       "      <td>23.7</td>\n",
       "      <td>24.5</td>\n",
       "      <td>23.8</td>\n",
       "      <td>24.1</td>\n",
       "      <td>1.00</td>\n",
       "      <td>511</td>\n",
       "      <td>499</td>\n",
       "      <td>1011</td>\n",
       "      <td>0.22</td>\n",
       "      <td>24.2</td>\n",
       "    </tr>\n",
       "    <tr>\n",
       "      <th>18</th>\n",
       "      <td>Maine</td>\n",
       "      <td>0.95</td>\n",
       "      <td>513</td>\n",
       "      <td>499</td>\n",
       "      <td>1012</td>\n",
       "      <td>0.08</td>\n",
       "      <td>24.2</td>\n",
       "      <td>24.0</td>\n",
       "      <td>24.8</td>\n",
       "      <td>23.7</td>\n",
       "      <td>24.3</td>\n",
       "      <td>0.99</td>\n",
       "      <td>512</td>\n",
       "      <td>501</td>\n",
       "      <td>1013</td>\n",
       "      <td>0.07</td>\n",
       "      <td>24.0</td>\n",
       "    </tr>\n",
       "    <tr>\n",
       "      <th>19</th>\n",
       "      <td>Maine</td>\n",
       "      <td>0.95</td>\n",
       "      <td>513</td>\n",
       "      <td>499</td>\n",
       "      <td>1012</td>\n",
       "      <td>0.08</td>\n",
       "      <td>24.2</td>\n",
       "      <td>24.0</td>\n",
       "      <td>24.8</td>\n",
       "      <td>23.7</td>\n",
       "      <td>24.3</td>\n",
       "      <td>0.99</td>\n",
       "      <td>512</td>\n",
       "      <td>501</td>\n",
       "      <td>1013</td>\n",
       "      <td>0.07</td>\n",
       "      <td>24.0</td>\n",
       "    </tr>\n",
       "    <tr>\n",
       "      <th>39</th>\n",
       "      <td>Rhode Island</td>\n",
       "      <td>0.71</td>\n",
       "      <td>539</td>\n",
       "      <td>524</td>\n",
       "      <td>1062</td>\n",
       "      <td>0.21</td>\n",
       "      <td>24.0</td>\n",
       "      <td>23.3</td>\n",
       "      <td>24.7</td>\n",
       "      <td>23.4</td>\n",
       "      <td>24.0</td>\n",
       "      <td>0.97</td>\n",
       "      <td>513</td>\n",
       "      <td>505</td>\n",
       "      <td>1018</td>\n",
       "      <td>0.15</td>\n",
       "      <td>24.2</td>\n",
       "    </tr>\n",
       "    <tr>\n",
       "      <th>12</th>\n",
       "      <td>Illinois</td>\n",
       "      <td>0.09</td>\n",
       "      <td>559</td>\n",
       "      <td>556</td>\n",
       "      <td>1115</td>\n",
       "      <td>0.93</td>\n",
       "      <td>21.0</td>\n",
       "      <td>21.2</td>\n",
       "      <td>21.6</td>\n",
       "      <td>21.3</td>\n",
       "      <td>21.4</td>\n",
       "      <td>0.99</td>\n",
       "      <td>513</td>\n",
       "      <td>506</td>\n",
       "      <td>1019</td>\n",
       "      <td>0.43</td>\n",
       "      <td>23.9</td>\n",
       "    </tr>\n",
       "  </tbody>\n",
       "</table>\n",
       "</div>"
      ],
      "text/plain": [
       "            state  participation_sat_2017  \\\n",
       "7        Delaware                    1.00   \n",
       "48  West Virginia                    0.14   \n",
       "11          Idaho                    0.93   \n",
       "10         Hawaii                    0.55   \n",
       "44           Utah                    0.03   \n",
       "22       Michigan                    1.00   \n",
       "18          Maine                    0.95   \n",
       "19          Maine                    0.95   \n",
       "39   Rhode Island                    0.71   \n",
       "12       Illinois                    0.09   \n",
       "\n",
       "    evidence-based_reading_and_writing_sat_2017  math_sat_2017  \\\n",
       "7                                           503            492   \n",
       "48                                          558            528   \n",
       "11                                          513            493   \n",
       "10                                          544            541   \n",
       "44                                          624            614   \n",
       "22                                          509            495   \n",
       "18                                          513            499   \n",
       "19                                          513            499   \n",
       "39                                          539            524   \n",
       "12                                          559            556   \n",
       "\n",
       "    total_sat_2017  participation_act_2017  english_act_2017  math_act_2017  \\\n",
       "7              996                    0.18              24.1           23.4   \n",
       "48            1086                    0.69              20.0           19.4   \n",
       "11            1005                    0.38              21.9           21.8   \n",
       "10            1085                    0.90              17.8           19.2   \n",
       "44            1238                    1.00              19.5           19.9   \n",
       "22            1005                    0.29              24.1           23.7   \n",
       "18            1012                    0.08              24.2           24.0   \n",
       "19            1012                    0.08              24.2           24.0   \n",
       "39            1062                    0.21              24.0           23.3   \n",
       "12            1115                    0.93              21.0           21.2   \n",
       "\n",
       "    reading_act_2017  science_act_2017  composite_act_2017  \\\n",
       "7               24.8              23.6                24.1   \n",
       "48              21.2              20.5                20.4   \n",
       "11              23.0              22.1                22.3   \n",
       "10              19.2              19.3                19.0   \n",
       "44              20.8              20.6                20.3   \n",
       "22              24.5              23.8                24.1   \n",
       "18              24.8              23.7                24.3   \n",
       "19              24.8              23.7                24.3   \n",
       "39              24.7              23.4                24.0   \n",
       "12              21.6              21.3                21.4   \n",
       "\n",
       "    participation_sat_2018  evidence-based_reading_and_writing_sat_2018  \\\n",
       "7                     1.00                                          505   \n",
       "48                    0.28                                          513   \n",
       "11                    1.00                                          508   \n",
       "10                    0.56                                          480   \n",
       "44                    0.04                                          480   \n",
       "22                    1.00                                          511   \n",
       "18                    0.99                                          512   \n",
       "19                    0.99                                          512   \n",
       "39                    0.97                                          513   \n",
       "12                    0.99                                          513   \n",
       "\n",
       "    math_sat_2018  total_sat_2018  participation_act_2018  composite_act_2018  \n",
       "7             492             998                    0.17                23.8  \n",
       "48            486             999                    0.65                20.3  \n",
       "11            493            1001                    0.36                22.3  \n",
       "10            530            1010                    0.89                18.9  \n",
       "44            530            1010                    1.00                20.4  \n",
       "22            499            1011                    0.22                24.2  \n",
       "18            501            1013                    0.07                24.0  \n",
       "19            501            1013                    0.07                24.0  \n",
       "39            505            1018                    0.15                24.2  \n",
       "12            506            1019                    0.43                23.9  "
      ]
     },
     "execution_count": 32,
     "metadata": {},
     "output_type": "execute_result"
    }
   ],
   "source": [
    "# Used for all participation rate questions\n",
    "combined_2017_2018.sort_values(by=['total_sat_2018'], ascending=True)[0:10]"
   ]
  },
  {
   "cell_type": "code",
   "execution_count": 33,
   "metadata": {},
   "outputs": [
    {
     "data": {
      "text/html": [
       "<div>\n",
       "<style scoped>\n",
       "    .dataframe tbody tr th:only-of-type {\n",
       "        vertical-align: middle;\n",
       "    }\n",
       "\n",
       "    .dataframe tbody tr th {\n",
       "        vertical-align: top;\n",
       "    }\n",
       "\n",
       "    .dataframe thead th {\n",
       "        text-align: right;\n",
       "    }\n",
       "</style>\n",
       "<table border=\"1\" class=\"dataframe\">\n",
       "  <thead>\n",
       "    <tr style=\"text-align: right;\">\n",
       "      <th></th>\n",
       "      <th>state</th>\n",
       "      <th>participation_sat_2017</th>\n",
       "      <th>evidence-based_reading_and_writing_sat_2017</th>\n",
       "      <th>math_sat_2017</th>\n",
       "      <th>total_sat_2017</th>\n",
       "      <th>participation_act_2017</th>\n",
       "      <th>english_act_2017</th>\n",
       "      <th>math_act_2017</th>\n",
       "      <th>reading_act_2017</th>\n",
       "      <th>science_act_2017</th>\n",
       "      <th>composite_act_2017</th>\n",
       "      <th>participation_sat_2018</th>\n",
       "      <th>evidence-based_reading_and_writing_sat_2018</th>\n",
       "      <th>math_sat_2018</th>\n",
       "      <th>total_sat_2018</th>\n",
       "      <th>participation_act_2018</th>\n",
       "      <th>composite_act_2018</th>\n",
       "    </tr>\n",
       "  </thead>\n",
       "  <tbody>\n",
       "    <tr>\n",
       "      <th>8</th>\n",
       "      <td>Florida</td>\n",
       "      <td>0.83</td>\n",
       "      <td>520</td>\n",
       "      <td>497</td>\n",
       "      <td>1017</td>\n",
       "      <td>0.73</td>\n",
       "      <td>19.0</td>\n",
       "      <td>19.4</td>\n",
       "      <td>21.0</td>\n",
       "      <td>19.4</td>\n",
       "      <td>19.8</td>\n",
       "      <td>0.56</td>\n",
       "      <td>550</td>\n",
       "      <td>549</td>\n",
       "      <td>1099</td>\n",
       "      <td>0.66</td>\n",
       "      <td>19.9</td>\n",
       "    </tr>\n",
       "    <tr>\n",
       "      <th>9</th>\n",
       "      <td>Georgia</td>\n",
       "      <td>0.61</td>\n",
       "      <td>535</td>\n",
       "      <td>515</td>\n",
       "      <td>1050</td>\n",
       "      <td>0.55</td>\n",
       "      <td>21.0</td>\n",
       "      <td>20.9</td>\n",
       "      <td>22.0</td>\n",
       "      <td>21.3</td>\n",
       "      <td>21.4</td>\n",
       "      <td>0.70</td>\n",
       "      <td>542</td>\n",
       "      <td>522</td>\n",
       "      <td>1064</td>\n",
       "      <td>0.53</td>\n",
       "      <td>21.4</td>\n",
       "    </tr>\n",
       "    <tr>\n",
       "      <th>10</th>\n",
       "      <td>Hawaii</td>\n",
       "      <td>0.55</td>\n",
       "      <td>544</td>\n",
       "      <td>541</td>\n",
       "      <td>1085</td>\n",
       "      <td>0.90</td>\n",
       "      <td>17.8</td>\n",
       "      <td>19.2</td>\n",
       "      <td>19.2</td>\n",
       "      <td>19.3</td>\n",
       "      <td>19.0</td>\n",
       "      <td>0.56</td>\n",
       "      <td>480</td>\n",
       "      <td>530</td>\n",
       "      <td>1010</td>\n",
       "      <td>0.89</td>\n",
       "      <td>18.9</td>\n",
       "    </tr>\n",
       "    <tr>\n",
       "      <th>33</th>\n",
       "      <td>North Carolina</td>\n",
       "      <td>0.49</td>\n",
       "      <td>546</td>\n",
       "      <td>535</td>\n",
       "      <td>1081</td>\n",
       "      <td>1.00</td>\n",
       "      <td>17.8</td>\n",
       "      <td>19.3</td>\n",
       "      <td>19.6</td>\n",
       "      <td>19.3</td>\n",
       "      <td>19.1</td>\n",
       "      <td>0.52</td>\n",
       "      <td>554</td>\n",
       "      <td>543</td>\n",
       "      <td>1098</td>\n",
       "      <td>1.00</td>\n",
       "      <td>19.1</td>\n",
       "    </tr>\n",
       "    <tr>\n",
       "      <th>40</th>\n",
       "      <td>South Carolina</td>\n",
       "      <td>0.50</td>\n",
       "      <td>543</td>\n",
       "      <td>521</td>\n",
       "      <td>1064</td>\n",
       "      <td>1.00</td>\n",
       "      <td>17.5</td>\n",
       "      <td>18.6</td>\n",
       "      <td>19.1</td>\n",
       "      <td>18.9</td>\n",
       "      <td>18.7</td>\n",
       "      <td>0.55</td>\n",
       "      <td>547</td>\n",
       "      <td>523</td>\n",
       "      <td>1070</td>\n",
       "      <td>1.00</td>\n",
       "      <td>18.3</td>\n",
       "    </tr>\n",
       "  </tbody>\n",
       "</table>\n",
       "</div>"
      ],
      "text/plain": [
       "             state  participation_sat_2017  \\\n",
       "8          Florida                    0.83   \n",
       "9          Georgia                    0.61   \n",
       "10          Hawaii                    0.55   \n",
       "33  North Carolina                    0.49   \n",
       "40  South Carolina                    0.50   \n",
       "\n",
       "    evidence-based_reading_and_writing_sat_2017  math_sat_2017  \\\n",
       "8                                           520            497   \n",
       "9                                           535            515   \n",
       "10                                          544            541   \n",
       "33                                          546            535   \n",
       "40                                          543            521   \n",
       "\n",
       "    total_sat_2017  participation_act_2017  english_act_2017  math_act_2017  \\\n",
       "8             1017                    0.73              19.0           19.4   \n",
       "9             1050                    0.55              21.0           20.9   \n",
       "10            1085                    0.90              17.8           19.2   \n",
       "33            1081                    1.00              17.8           19.3   \n",
       "40            1064                    1.00              17.5           18.6   \n",
       "\n",
       "    reading_act_2017  science_act_2017  composite_act_2017  \\\n",
       "8               21.0              19.4                19.8   \n",
       "9               22.0              21.3                21.4   \n",
       "10              19.2              19.3                19.0   \n",
       "33              19.6              19.3                19.1   \n",
       "40              19.1              18.9                18.7   \n",
       "\n",
       "    participation_sat_2018  evidence-based_reading_and_writing_sat_2018  \\\n",
       "8                     0.56                                          550   \n",
       "9                     0.70                                          542   \n",
       "10                    0.56                                          480   \n",
       "33                    0.52                                          554   \n",
       "40                    0.55                                          547   \n",
       "\n",
       "    math_sat_2018  total_sat_2018  participation_act_2018  composite_act_2018  \n",
       "8             549            1099                    0.66                19.9  \n",
       "9             522            1064                    0.53                21.4  \n",
       "10            530            1010                    0.89                18.9  \n",
       "33            543            1098                    1.00                19.1  \n",
       "40            523            1070                    1.00                18.3  "
      ]
     },
     "execution_count": 33,
     "metadata": {},
     "output_type": "execute_result"
    }
   ],
   "source": [
    "# Higher than 50% participation in both tests for a single year\n",
    "participation_total_2018 = combined_2017_2018[(combined_2017_2018['participation_sat_2018'] > 0.50) & (combined_2017_2018['participation_act_2018'] > 0.50)][0:10]\n",
    "participation_total_2018"
   ]
  },
  {
   "cell_type": "markdown",
   "metadata": {},
   "source": [
    "## Visualize the data\n",
    "\n",
    "There's not a magic bullet recommendation for the right number of plots to understand a given dataset, but visualizing your data is *always* a good idea. Not only does it allow you to quickly convey your findings (even if you have a non-technical audience), it will often reveal trends in your data that escaped you when you were looking only at numbers.\n",
    "\n",
    "Some recommendations on plotting:\n",
    "- Plots have titles\n",
    "- Plots have axis labels\n",
    "- Plots have appropriate tick labels\n",
    "- All text is legible in a plot\n",
    "- Plots demonstrate meaningful and valid relationships\n",
    "- Plots are interpreted to aid understanding\n",
    "\n",
    "There is such a thing as too many plots, and there are a *lot* of bad plots. You might make some! (But hopefully not with the guided prompts below)."
   ]
  },
  {
   "cell_type": "markdown",
   "metadata": {},
   "source": [
    "#### Use Seaborn's heatmap with pandas `.corr()` to visualize correlations between all numeric features\n",
    "\n",
    "Heatmaps are generally not appropriate for presentations, and should often be excluded from reports as they can be visually overwhelming. **However**, they can be extremely useful in identify relationships of potential interest (as well as identifying potential collinearity before modeling).\n",
    "\n",
    "*example*:\n",
    "```python\n",
    "sns.heatmap(df.corr())\n",
    "```\n",
    "\n",
    "Please take time to format your output, adding a title. Look through some of the additional arguments and options. (Axis labels aren't really necessary, as long as the title is informative)."
   ]
  },
  {
   "cell_type": "code",
   "execution_count": 34,
   "metadata": {},
   "outputs": [
    {
     "data": {
      "image/png": "[encoded data removed]",
      "text/plain": [
       "<Figure size 432x288 with 2 Axes>"
      ]
     },
     "metadata": {},
     "output_type": "display_data"
    }
   ],
   "source": [
    "# Make heatmap\n",
    "sns.heatmap(combined_2017_2018.corr())\n",
    "plt.title(\"Heatmap of Scores\", fontsize = 25)\n",
    "plt.ylabel(\"Subjects\", fontsize = 25)\n",
    "plt.xlabel(\"Scores\", fontsize = 25);"
   ]
  },
  {
   "cell_type": "markdown",
   "metadata": {},
   "source": [
    "#### Define a custom function to subplot histograms\n",
    "\n",
    "We have data for two tests for two years. We only have composite (and not subtest scores) for the 2018 ACT. We should write a function that will take the names of 2+ columns and subplot histograms. While you can use pandas plotting or Seaborn here, matplotlib gives you greater control over all aspects of your plots.\n",
    "\n",
    "[Helpful Link for Plotting Multiple Figures](https://matplotlib.org/users/pyplot_tutorial.html#working-with-multiple-figures-and-axes)\n",
    "\n",
    "Here's some starter code:"
   ]
  },
  {
   "cell_type": "code",
   "execution_count": 35,
   "metadata": {},
   "outputs": [],
   "source": [
    "def subplot_histograms(dataframe, list_of_columns, list_of_titles, list_of_xlabels):\n",
    "    nrows = int(np.ceil(len(list_of_columns)/2)) # Makes sure you have enough rows\n",
    "    fig, ax = plt.subplots(nrows=nrows, ncols=2) # You'll want to specify your figsize\n",
    "    ax = ax.ravel() # Ravel turns a matrix into a vector, which is easier to iterate\n",
    "    for i, column in enumerate(list_of_columns): # Gives us an index value to get into all our lists\n",
    "        ax[i].hist(dataframe[column]) # feel free to add more settings\n",
    "        # Set titles, labels, etc here for each subplot"
   ]
  },
  {
   "cell_type": "code",
   "execution_count": 36,
   "metadata": {},
   "outputs": [
    {
     "data": {
      "text/plain": [
       "Index(['state', 'participation_sat_2017',\n",
       "       'evidence-based_reading_and_writing_sat_2017', 'math_sat_2017',\n",
       "       'total_sat_2017', 'participation_act_2017', 'english_act_2017',\n",
       "       'math_act_2017', 'reading_act_2017', 'science_act_2017',\n",
       "       'composite_act_2017', 'participation_sat_2018',\n",
       "       'evidence-based_reading_and_writing_sat_2018', 'math_sat_2018',\n",
       "       'total_sat_2018', 'participation_act_2018', 'composite_act_2018'],\n",
       "      dtype='object')"
      ]
     },
     "execution_count": 36,
     "metadata": {},
     "output_type": "execute_result"
    }
   ],
   "source": [
    "combined_2017_2018.columns"
   ]
  },
  {
   "cell_type": "markdown",
   "metadata": {},
   "source": [
    "#### Plot and interpret histograms \n",
    "For each of the following:\n",
    "- Participation rates for SAT & ACT\n",
    "- Math scores for SAT & ACT\n",
    "- Reading/verbal scores for SAT & ACT"
   ]
  },
  {
   "cell_type": "code",
   "execution_count": 37,
   "metadata": {},
   "outputs": [
    {
     "data": {
      "text/plain": [
       "<function matplotlib.pyplot.show>"
      ]
     },
     "execution_count": 37,
     "metadata": {},
     "output_type": "execute_result"
    },
    {
     "data": {
      "image/png": "[encoded data removed]",
      "text/plain": [
       "<Figure size 720x360 with 1 Axes>"
      ]
     },
     "metadata": {},
     "output_type": "display_data"
    }
   ],
   "source": [
    "combined_2017_2018.hist(column='participation_sat_2017', xlabelsize=20, ylabelsize=20, figsize=(10,5)) \n",
    "plt.xlabel('SAT Participation Rate', fontsize=15)\n",
    "plt.ylabel('Number of States', fontsize=15)\n",
    "plt.title('SAT Participation Rate 2017')\n",
    "plt.show"
   ]
  },
  {
   "cell_type": "code",
   "execution_count": 38,
   "metadata": {},
   "outputs": [
    {
     "data": {
      "text/plain": [
       "<function matplotlib.pyplot.show>"
      ]
     },
     "execution_count": 38,
     "metadata": {},
     "output_type": "execute_result"
    },
    {
     "data": {
      "image/png": "[encoded data removed]",
      "text/plain": [
       "<Figure size 720x720 with 1 Axes>"
      ]
     },
     "metadata": {},
     "output_type": "display_data"
    }
   ],
   "source": [
    "combined_2017_2018.hist(column='participation_act_2017', xlabelsize=20, ylabelsize=20, figsize=(10,10)) \n",
    "plt.xlabel('ACT Participation Rate', fontsize=15)\n",
    "plt.ylabel('Number of States', fontsize=15)\n",
    "plt.title('ACT Participation Rate 2017', fontsize=20)\n",
    "plt.show"
   ]
  },
  {
   "cell_type": "code",
   "execution_count": 39,
   "metadata": {},
   "outputs": [
    {
     "data": {
      "text/plain": [
       "<function matplotlib.pyplot.show>"
      ]
     },
     "execution_count": 39,
     "metadata": {},
     "output_type": "execute_result"
    },
    {
     "data": {
      "image/png": "[encoded data removed]",
      "text/plain": [
       "<Figure size 720x360 with 1 Axes>"
      ]
     },
     "metadata": {},
     "output_type": "display_data"
    }
   ],
   "source": [
    "combined_2017_2018.hist(column='math_sat_2017', xlabelsize=20, ylabelsize=20, figsize=(10,5)) \n",
    "plt.xlabel('Math Scores', fontsize=15)\n",
    "plt.ylabel('Number of States', fontsize=15)\n",
    "plt.title('Math Scores SAT 2017', fontsize=20)\n",
    "plt.show"
   ]
  },
  {
   "cell_type": "code",
   "execution_count": 40,
   "metadata": {},
   "outputs": [
    {
     "data": {
      "text/plain": [
       "<function matplotlib.pyplot.show>"
      ]
     },
     "execution_count": 40,
     "metadata": {},
     "output_type": "execute_result"
    },
    {
     "data": {
      "image/png": "[encoded data removed]",
      "text/plain": [
       "<Figure size 720x360 with 1 Axes>"
      ]
     },
     "metadata": {},
     "output_type": "display_data"
    }
   ],
   "source": [
    "combined_2017_2018.hist(column='math_act_2017', xlabelsize=20, ylabelsize=20, figsize=(10,5)) \n",
    "plt.xlabel('Math Scores', fontsize=15)\n",
    "plt.ylabel('Number of States', fontsize=15)\n",
    "plt.title('ACT Math Scores 2017', fontsize=20)\n",
    "plt.show"
   ]
  },
  {
   "cell_type": "code",
   "execution_count": 41,
   "metadata": {},
   "outputs": [
    {
     "data": {
      "text/plain": [
       "<function matplotlib.pyplot.show>"
      ]
     },
     "execution_count": 41,
     "metadata": {},
     "output_type": "execute_result"
    },
    {
     "data": {
      "image/png": "[encoded data removed]",
      "text/plain": [
       "<Figure size 720x360 with 1 Axes>"
      ]
     },
     "metadata": {},
     "output_type": "display_data"
    }
   ],
   "source": [
    "combined_2017_2018.hist(column='evidence-based_reading_and_writing_sat_2017', xlabelsize=20, ylabelsize=20, figsize=(10,5))\n",
    "plt.xlabel('SAT Scores', fontsize=15)\n",
    "plt.ylabel('Number of States', fontsize=15)\n",
    "plt.title('SAT Reading Scores 2017', fontsize=20)\n",
    "plt.show"
   ]
  },
  {
   "cell_type": "code",
   "execution_count": 42,
   "metadata": {},
   "outputs": [
    {
     "data": {
      "text/plain": [
       "<function matplotlib.pyplot.show>"
      ]
     },
     "execution_count": 42,
     "metadata": {},
     "output_type": "execute_result"
    },
    {
     "data": {
      "image/png": "[encoded data removed]",
      "text/plain": [
       "<Figure size 720x360 with 1 Axes>"
      ]
     },
     "metadata": {},
     "output_type": "display_data"
    }
   ],
   "source": [
    "combined_2017_2018.hist(column='english_act_2017', xlabelsize=20, ylabelsize=20, figsize=(10,5))\n",
    "plt.xlabel('ACT Scores', fontsize=15)\n",
    "plt.ylabel('Number of States', fontsize=15)\n",
    "plt.title('ACT English Scores 2017', fontsize=20)\n",
    "plt.show"
   ]
  },
  {
   "cell_type": "markdown",
   "metadata": {},
   "source": [
    "#### Plot and interpret scatter plots\n",
    "\n",
    "For each of the following:\n",
    "- SAT vs. ACT math scores for 2017\n",
    "- SAT vs. ACT verbal/reading scores for 2017\n",
    "- SAT vs. ACT total/composite scores for 2017\n",
    "- Total scores for SAT 2017 vs. 2018\n",
    "- Composite scores for ACT 2017 vs. 2018\n",
    "\n",
    "Plot the two variables against each other using matplotlib or Seaborn\n",
    "\n",
    "Your plots should show:\n",
    "- Two clearly labeled axes\n",
    "- A proper title\n",
    "- Using colors and symbols that are clear and unmistakable\n",
    "\n",
    "**Feel free to write a custom function, and subplot if you'd like.** Functions save both time and space.\n"
   ]
  },
  {
   "cell_type": "code",
   "execution_count": 43,
   "metadata": {},
   "outputs": [
    {
     "data": {
      "image/png": "[encoded data removed]",
      "text/plain": [
       "<Figure size 432x288 with 1 Axes>"
      ]
     },
     "metadata": {},
     "output_type": "display_data"
    }
   ],
   "source": [
    "# Create scattter plot\n",
    "# Made for math instead of Reading\n",
    "# Shows how math scores for SAT compares to ACT\n",
    "plt.scatter(combined_2017_2018.math_sat_2017, combined_2017_2018.math_act_2017)\n",
    "plt.title(\"Math scores SAT 2017 vs ACT 2017\")\n",
    "plt.ylabel(\"Math ACT 2017\")\n",
    "plt.xlabel(\"Math SAT 2017\");"
   ]
  },
  {
   "cell_type": "code",
   "execution_count": 44,
   "metadata": {},
   "outputs": [
    {
     "data": {
      "image/png": "[encoded data removed]",
      "text/plain": [
       "<Figure size 432x288 with 1 Axes>"
      ]
     },
     "metadata": {},
     "output_type": "display_data"
    }
   ],
   "source": [
    "# Create scattter plot\n",
    "# Shows how total/composite scores for SAT compares to ACT\n",
    "plt.scatter(combined_2017_2018.total_sat_2017, combined_2017_2018.total_sat_2018)\n",
    "plt.title(\"Total scores SAT 2017 vs ACT 2017\")\n",
    "plt.ylabel(\"ACT 2017\")\n",
    "plt.xlabel(\"SAT 2017\");"
   ]
  },
  {
   "cell_type": "code",
   "execution_count": 45,
   "metadata": {},
   "outputs": [
    {
     "data": {
      "image/png": "[encoded data removed]",
      "text/plain": [
       "<Figure size 432x288 with 1 Axes>"
      ]
     },
     "metadata": {},
     "output_type": "display_data"
    }
   ],
   "source": [
    "# Create scattter plot\n",
    "# Shows how total SAT score comparison for 2017 and 2018\n",
    "plt.scatter(combined_2017_2018.total_sat_2017, combined_2017_2018.total_sat_2018)\n",
    "plt.title(\"SAT Total 2017 vs 2018\")\n",
    "plt.ylabel(\"SAT 2017\")\n",
    "plt.xlabel(\"SAT 2018\");"
   ]
  },
  {
   "cell_type": "code",
   "execution_count": 46,
   "metadata": {},
   "outputs": [
    {
     "data": {
      "image/png": "[encoded data removed]",
      "text/plain": [
       "<Figure size 432x288 with 1 Axes>"
      ]
     },
     "metadata": {},
     "output_type": "display_data"
    }
   ],
   "source": [
    "# Create scatter plot\n",
    "# Shows how total ACT score comparison for 2017 and 2018\n",
    "plt.scatter(combined_2017_2018.composite_act_2017, combined_2017_2018.composite_act_2018)\n",
    "plt.title(\"ACT Composite 2017 vs 2018\")\n",
    "plt.ylabel(\"ACT 2017\")\n",
    "plt.xlabel(\"ACT 2018\");"
   ]
  },
  {
   "cell_type": "markdown",
   "metadata": {},
   "source": [
    "#### Plot and interpret boxplots\n",
    "\n",
    "For each numeric variable in the dataframe create a boxplot using Seaborn. Boxplots demonstrate central tendency and spread in variables. In a certain sense, these are somewhat redundant with histograms, but you may be better able to identify clear outliers or differences in IQR, etc.\n",
    "\n",
    "Multiple values can be plotted to a single boxplot as long as they are of the same relative scale (meaning they have similar min/max values).\n",
    "\n",
    "Each boxplot should:\n",
    "- Only include variables of a similar scale\n",
    "- Have clear labels for each variable\n",
    "- Have appropriate titles and labels"
   ]
  },
  {
   "cell_type": "markdown",
   "metadata": {},
   "source": [
    "#### Feel free to do additional plots below\n",
    "*(do research and choose your own chart types & variables)*\n",
    "\n",
    "Are there any additional trends or relationships you haven't explored? Was there something interesting you saw that you'd like to dive further into? It's likely that there are a few more plots you might want to generate to support your narrative and recommendations that you are building toward. **As always, make sure you're interpreting your plots as you go**."
   ]
  },
  {
   "cell_type": "code",
   "execution_count": 47,
   "metadata": {},
   "outputs": [
    {
     "data": {
      "text/plain": [
       "<matplotlib.axes._subplots.AxesSubplot at 0x1a1e1b77b8>"
      ]
     },
     "execution_count": 47,
     "metadata": {},
     "output_type": "execute_result"
    },
    {
     "data": {
      "image/png": "[encoded data removed]",
      "text/plain": [
       "<Figure size 360x360 with 1 Axes>"
      ]
     },
     "metadata": {},
     "output_type": "display_data"
    }
   ],
   "source": [
    "ax = plt.subplots(figsize=(5,5))\n",
    "plt.title('Participation SAT 2017', fontsize=20)\n",
    "sns.boxplot(data=combined_2017_2018[['participation_sat_2017']])"
   ]
  },
  {
   "cell_type": "code",
   "execution_count": 48,
   "metadata": {},
   "outputs": [
    {
     "data": {
      "text/plain": [
       "<matplotlib.axes._subplots.AxesSubplot at 0x1a1e5b8a58>"
      ]
     },
     "execution_count": 48,
     "metadata": {},
     "output_type": "execute_result"
    },
    {
     "data": {
      "image/png": "[encoded data removed]",
      "text/plain": [
       "<Figure size 360x360 with 1 Axes>"
      ]
     },
     "metadata": {},
     "output_type": "display_data"
    }
   ],
   "source": [
    "ax = plt.subplots(figsize=(5,5))\n",
    "plt.title('Participation ACT 2017', fontsize=20)\n",
    "sns.boxplot(data=combined_2017_2018[['participation_act_2017']])"
   ]
  },
  {
   "cell_type": "code",
   "execution_count": 49,
   "metadata": {},
   "outputs": [
    {
     "data": {
      "text/plain": [
       "<matplotlib.axes._subplots.AxesSubplot at 0x1a1e5765f8>"
      ]
     },
     "execution_count": 49,
     "metadata": {},
     "output_type": "execute_result"
    },
    {
     "data": {
      "image/png": "[encoded data removed]",
      "text/plain": [
       "<Figure size 360x360 with 1 Axes>"
      ]
     },
     "metadata": {},
     "output_type": "display_data"
    }
   ],
   "source": [
    "ax = plt.subplots(figsize=(5,5))\n",
    "plt.title('Participation SAT 2018', fontsize=20)\n",
    "sns.boxplot(data=combined_2017_2018[['participation_sat_2018']])"
   ]
  },
  {
   "cell_type": "code",
   "execution_count": 50,
   "metadata": {},
   "outputs": [
    {
     "data": {
      "text/plain": [
       "<matplotlib.axes._subplots.AxesSubplot at 0x1a1e744898>"
      ]
     },
     "execution_count": 50,
     "metadata": {},
     "output_type": "execute_result"
    },
    {
     "data": {
      "image/png": "[encoded data removed]",
      "text/plain": [
       "<Figure size 360x360 with 1 Axes>"
      ]
     },
     "metadata": {},
     "output_type": "display_data"
    }
   ],
   "source": [
    "ax = plt.subplots(figsize=(5,5))\n",
    "plt.title('Participation ACT 2018', fontsize=20)\n",
    "sns.boxplot(data=combined_2017_2018[['participation_sat_2018']])"
   ]
  },
  {
   "cell_type": "code",
   "execution_count": 51,
   "metadata": {},
   "outputs": [
    {
     "data": {
      "text/plain": [
       "Text(0.5,1,'SAT Participation 2017')"
      ]
     },
     "execution_count": 51,
     "metadata": {},
     "output_type": "execute_result"
    },
    {
     "data": {
      "image/png": "[encoded data removed]",
      "text/plain": [
       "<Figure size 720x720 with 1 Axes>"
      ]
     },
     "metadata": {},
     "output_type": "display_data"
    }
   ],
   "source": [
    "# Horizontal bar graph for presentation \n",
    "combined_2017_2018_organize = combined_2017_2018.sort_values('participation_sat_2017')\n",
    "plt.figure(figsize=[10,10])\n",
    "plt.barh(combined_2017_2018_organize['state'], combined_2017_2018_organize['participation_sat_2017'])\n",
    "plt.xlabel('Participation', fontsize = 30) \n",
    "plt.ylabel('State', fontsize = 30) \n",
    "\n",
    "plt.title('SAT Participation 2017', fontsize = 30)\n",
    "\n",
    "\n"
   ]
  },
  {
   "cell_type": "markdown",
   "metadata": {},
   "source": [
    "#### (Optional): Using Tableau, create a choropleth map for each variable using a map of the US. \n",
    "\n",
    "Save this plot as an image file in an images directory, provide a relative path, and insert the image into notebook in markdown."
   ]
  },
  {
   "cell_type": "code",
   "execution_count": null,
   "metadata": {},
   "outputs": [],
   "source": []
  },
  {
   "cell_type": "markdown",
   "metadata": {},
   "source": [
    "## Outside Research"
   ]
  },
  {
   "cell_type": "markdown",
   "metadata": {},
   "source": [
    "Based upon your observations, choose **three** states that demonstrate interesting trends in their SAT and/or ACT participation rates. Spend some time doing outside research on state policies that might influence these rates, and summarize your findings below. **Feel free to go back and create new plots that highlight these states of interest**. If you bring in any outside tables or charts, make sure you are explicit about having borrowed them. If you quote any text, make sure that it renders as being quoted. (Make sure that you cite your sources -- check with you local instructor for citation preferences)."
   ]
  },
  {
   "cell_type": "markdown",
   "metadata": {},
   "source": [
    "- CT, LA, NJ\n",
    "- High percentage taking ACT than SAT\n",
    "- Why CT has more SAT takers than ACT (percentage wise) unlike LA opposite\n",
    "- Why Lousiana has little participation in SAT"
   ]
  },
  {
   "cell_type": "markdown",
   "metadata": {},
   "source": [
    "## Conclusions and Recommendations"
   ]
  },
  {
   "cell_type": "markdown",
   "metadata": {},
   "source": [
    "Based on your exploration of the data, what are you key takeaways and recommendations? Choose one state with a lower participation rate and provide a suggestion for how the College Board might increase participation amongst graduating seniors in this state. Are there additional data you desire that would better inform your investigations?"
   ]
  },
  {
   "cell_type": "markdown",
   "metadata": {},
   "source": [
    "- The ACT tends to have more test takers in the central part of the United States unlike the SAT where it is very popular on the east and west coat. This could be due to smaller universities in \n",
    "the midwest than on the coasts. However, Lousiana has a lower \n",
    "percentage of students taking the SAT than ACT because \n",
    "the state uses the ACT for high school testing.\n",
    "\n",
    "- College Board, the organization that adminsters the SAT, \n",
    "can talk with the Lousiana government to try and get them \n",
    "to change to the SAT. College Board can lobby and enter a \n",
    "bidding battle with the ACT."
   ]
  },
  {
   "cell_type": "markdown",
   "metadata": {},
   "source": [
    "## Bonus: Descriptive and Inferential Statistics"
   ]
  },
  {
   "cell_type": "markdown",
   "metadata": {},
   "source": [
    "#### Summarizing Distributions\n",
    "\n",
    "Above, we used pandas `describe` to provide quick summary statistics of our numeric columns. We also demonstrated many visual relationships.\n",
    "\n",
    "As data scientists, having a complete understanding of data is imperative prior to modeling.\n",
    "\n",
    "While we will continue to build our analytic tools, we know that measures of *central tendency*, *spread*, and *shape/skewness* provide a quick summary of distributions.\n",
    "\n",
    "For each variable in your data, summarize the underlying distributions (in words & statistics)\n",
    " - Be thorough in your verbal description of these distributions.\n",
    " - Be sure to back up these summaries with statistics."
   ]
  },
  {
   "cell_type": "markdown",
   "metadata": {},
   "source": [
    "Answers:"
   ]
  },
  {
   "cell_type": "markdown",
   "metadata": {},
   "source": [
    "#### We generally assuming that data we sample from a population will be normally distributed. Do we observe this trend?"
   ]
  },
  {
   "cell_type": "markdown",
   "metadata": {},
   "source": [
    "Answer:"
   ]
  },
  {
   "cell_type": "markdown",
   "metadata": {},
   "source": [
    "Does This Assumption Hold for:\n",
    "    - Math\n",
    "    - Reading\n",
    "    - Rates\n",
    "Explain your answers for each distribution and how you think this will affect estimates made from these data."
   ]
  },
  {
   "cell_type": "markdown",
   "metadata": {},
   "source": [
    "Answer:"
   ]
  },
  {
   "cell_type": "markdown",
   "metadata": {},
   "source": [
    "#### Estimate Limits of Data\n",
    "\n",
    "Suppose we only seek to understand the relationship between SAT and ACT participation rates in 2017. \n",
    "\n",
    "##### Does it make sense to conduct statistical inference given these data specifically? \n",
    "\n",
    "Why or why not?\n",
    "\n",
    "*(think about granularity, aggregation, the relationships between populations size & rates...consider the actually populations these data describe in answering this question)*"
   ]
  },
  {
   "cell_type": "markdown",
   "metadata": {},
   "source": [
    "Answer:"
   ]
  },
  {
   "cell_type": "markdown",
   "metadata": {},
   "source": [
    "##### Is it appropriate to compare *these* specific SAT and ACT math scores? \n",
    "\n",
    "Why or why not?"
   ]
  },
  {
   "cell_type": "markdown",
   "metadata": {},
   "source": [
    "Answer:"
   ]
  },
  {
   "cell_type": "markdown",
   "metadata": {},
   "source": [
    "#### Statistical Evaluation of Distributions \n",
    "\n",
    "**If you feel it's appropriate**, using methods we discussed in class, run hypothesis tests to compare variables of interest in our dataset. "
   ]
  },
  {
   "cell_type": "code",
   "execution_count": 52,
   "metadata": {},
   "outputs": [],
   "source": [
    "# Code:"
   ]
  }
 ],
 "metadata": {
  "anaconda-cloud": {},
  "kernelspec": {
   "display_name": "Python 3",
   "language": "python",
   "name": "python3"
  },
  "language_info": {
   "codemirror_mode": {
    "name": "ipython",
    "version": 3
   },
   "file_extension": ".py",
   "mimetype": "text/x-python",
   "name": "python",
   "nbconvert_exporter": "python",
   "pygments_lexer": "ipython3",
   "version": "3.6.4"
  }
 },
 "nbformat": 4,
 "nbformat_minor": 2
}
